{
 "cells": [
  {
   "cell_type": "code",
   "execution_count": 1,
   "id": "013a67bc-bfe6-4965-af5d-cc00439a9682",
   "metadata": {},
   "outputs": [],
   "source": [
    "import pickle\n",
    "\n",
    "import mlflow\n",
    "import pandas as pd\n",
    "from sklearn import metrics"
   ]
  },
  {
   "cell_type": "code",
   "execution_count": 2,
   "id": "7a2240d8-ca91-4d49-864b-a9e4db8cae28",
   "metadata": {},
   "outputs": [],
   "source": [
    "STAGE = \"Production\"\n",
    "MODEL_NAME = \"churn_model\"\n",
    "MODEL_REGISRTY_PATH = f\"models:/{MODEL_NAME}/{STAGE}\"\n",
    "MLFLOW_TRACKING_URI = \"sqlite:///mlflow.db\"\n",
    "MLFLOW_EXPERIMENT_NAME = \"telco-customers-churn\""
   ]
  },
  {
   "cell_type": "code",
   "execution_count": 3,
   "id": "239794d9-6152-476b-88a7-f73cd2c47cc3",
   "metadata": {},
   "outputs": [],
   "source": [
    "mlflow.set_tracking_uri(MLFLOW_TRACKING_URI)"
   ]
  },
  {
   "cell_type": "code",
   "execution_count": 72,
   "id": "e32a480d-cb67-4c9f-bef0-d2b6f6b9146a",
   "metadata": {},
   "outputs": [],
   "source": [
    "with open(\"models/min_max_scaler.bin\", \"rb\") as f:\n",
    "    scaler = pickle.load(f)\n",
    "\n",
    "with open(\"models/ohe.bin\", \"rb\") as f:\n",
    "    ohe = pickle.load(f)\n",
    "\n",
    "\n",
    "def prepare_features(users: dict):\n",
    "    num_features = [\"tenure\", \"MonthlyCharges\", \"TotalCharges\"]\n",
    "\n",
    "    cat_features = [\n",
    "        \"gender\",\n",
    "        \"SeniorCitizen\",\n",
    "        \"Partner\",\n",
    "        \"Dependents\",\n",
    "        \"PhoneService\",\n",
    "        \"MultipleLines\",\n",
    "        \"InternetService\",\n",
    "        \"OnlineSecurity\",\n",
    "        \"OnlineBackup\",\n",
    "        \"DeviceProtection\",\n",
    "        \"TechSupport\",\n",
    "        \"StreamingTV\",\n",
    "        \"StreamingMovies\",\n",
    "        \"Contract\",\n",
    "        \"PaperlessBilling\",\n",
    "        \"PaymentMethod\",\n",
    "    ]\n",
    "    df = pd.DataFrame.from_dict(users, orient=\"index\").reset_index(drop=True)\n",
    "    df.TotalCharges = pd.to_numeric(df.TotalCharges, errors=\"coerce\")\n",
    "    df = df.iloc[:, 1:]\n",
    "    X = ohe.transform(df[cat_features])\n",
    "    X = pd.DataFrame(X, columns=ohe.get_feature_names_out())\n",
    "    X = pd.concat([X, df[num_features]], axis=1)\n",
    "    features = X.columns.values\n",
    "    X = pd.DataFrame(scaler.transform(X))\n",
    "    X.columns = features\n",
    "    return X"
   ]
  },
  {
   "cell_type": "code",
   "execution_count": 40,
   "id": "0485ee23-5a81-45ca-809a-a67f6506c243",
   "metadata": {},
   "outputs": [],
   "source": [
    "production_model = mlflow.pyfunc.load_model(MODEL_REGISRTY_PATH)"
   ]
  },
  {
   "cell_type": "code",
   "execution_count": 41,
   "id": "4870f8f0-19bd-4636-902c-f0cc6541d8b7",
   "metadata": {},
   "outputs": [],
   "source": [
    "df = pd.read_csv(\"data/test.csv\")\n",
    "df = df.dropna()\n",
    "df[\"Churn\"] = df[\"Churn\"].replace(to_replace=\"Yes\", value=1)\n",
    "df[\"Churn\"] = df[\"Churn\"].replace(to_replace=\"No\", value=0)"
   ]
  },
  {
   "cell_type": "code",
   "execution_count": 42,
   "id": "dd14ed5a-4b7e-4a47-8bd8-954046420957",
   "metadata": {},
   "outputs": [],
   "source": [
    "X = prepare_features(df.to_dict(orient=\"index\"))"
   ]
  },
  {
   "cell_type": "code",
   "execution_count": 43,
   "id": "fb13c353-bd7c-4c44-b32e-a8642edc7bf2",
   "metadata": {},
   "outputs": [],
   "source": [
    "preds = production_model.predict(X)"
   ]
  },
  {
   "cell_type": "code",
   "execution_count": null,
   "id": "2eb89960-fff6-446c-bc4f-37d483d3b36f",
   "metadata": {},
   "outputs": [
    {
     "data": {
      "text/plain": [
       "0.582312925170068"
      ]
     },
     "execution_count": 44,
     "metadata": {},
     "output_type": "execute_result"
    }
   ],
   "source": [
    "metrics.f1_score(preds, df.Churn.values)"
   ]
  }
 ],
 "metadata": {
  "kernelspec": {
   "display_name": "Python 3 (ipykernel)",
   "language": "python",
   "name": "python3"
  },
  "language_info": {
   "codemirror_mode": {
    "name": "ipython",
    "version": 3
   },
   "file_extension": ".py",
   "mimetype": "text/x-python",
   "name": "python",
   "nbconvert_exporter": "python",
   "pygments_lexer": "ipython3",
   "version": "3.11.2"
  }
 },
 "nbformat": 4,
 "nbformat_minor": 5
}
