{
 "cells": [
  {
   "cell_type": "code",
   "execution_count": null,
   "id": "ecd70a73",
   "metadata": {},
   "outputs": [],
   "source": [
    "import os\n",
    "import pickle\n",
    "from collections import Counter\n",
    "\n",
    "import imblearn\n",
    "import lightgbm as lgb\n",
    "import mlflow\n",
    "import numpy as np\n",
    "import pandas as pd\n",
    "import xgboost as xgb\n",
    "from hyperopt import STATUS_OK, Trials, fmin, hp, tpe\n",
    "from hyperopt.pyll import scope\n",
    "from imblearn.over_sampling import SMOTE\n",
    "from imblearn.pipeline import Pipeline\n",
    "from imblearn.under_sampling import RandomUnderSampler\n",
    "from sklearn import metrics\n",
    "from sklearn.ensemble import AdaBoostClassifier, RandomForestClassifier\n",
    "from sklearn.linear_model import LogisticRegression\n",
    "from sklearn.model_selection import GridSearchCV, train_test_split\n",
    "from sklearn.preprocessing import MinMaxScaler, OneHotEncoder\n",
    "from sklearn.svm import SVC"
   ]
  },
  {
   "cell_type": "code",
   "execution_count": 7,
   "id": "9007797d",
   "metadata": {},
   "outputs": [],
   "source": [
    "os.environ[\"GOOGLE_APPLICATION_CREDENTIALS\"] = \"secret.json\""
   ]
  },
  {
   "cell_type": "markdown",
   "id": "73e1adcb",
   "metadata": {},
   "source": [
    "### Load dataframe"
   ]
  },
  {
   "cell_type": "code",
   "execution_count": 6,
   "id": "f1f243da",
   "metadata": {},
   "outputs": [],
   "source": [
    "df = pd.read_csv(\"data/telco-customers.csv\")"
   ]
  },
  {
   "cell_type": "code",
   "execution_count": 11,
   "id": "ad4db022",
   "metadata": {},
   "outputs": [],
   "source": [
    "train = df.sample(frac=0.8, random_state=42)\n",
    "test = df.drop(train.index)"
   ]
  },
  {
   "cell_type": "code",
   "execution_count": 12,
   "id": "d9d734be",
   "metadata": {},
   "outputs": [],
   "source": [
    "train.to_csv(\"data/train.csv\", index=False)\n",
    "test.to_csv(\"data/test.csv\", index=False)"
   ]
  },
  {
   "cell_type": "code",
   "execution_count": 13,
   "id": "525bce6d",
   "metadata": {},
   "outputs": [
    {
     "data": {
      "text/plain": [
       "Churn\n",
       "No     4122\n",
       "Yes    1512\n",
       "dtype: int64"
      ]
     },
     "execution_count": 13,
     "metadata": {},
     "output_type": "execute_result"
    }
   ],
   "source": [
    "train.groupby(\"Churn\").size()"
   ]
  },
  {
   "cell_type": "code",
   "execution_count": 14,
   "id": "26392255",
   "metadata": {},
   "outputs": [
    {
     "data": {
      "text/plain": [
       "Churn\n",
       "No     1052\n",
       "Yes     357\n",
       "dtype: int64"
      ]
     },
     "execution_count": 14,
     "metadata": {},
     "output_type": "execute_result"
    }
   ],
   "source": [
    "test.groupby(\"Churn\").size()"
   ]
  },
  {
   "cell_type": "code",
   "execution_count": 15,
   "id": "f4e9ce2a-ecc2-4e2d-a03a-8be18f93c124",
   "metadata": {},
   "outputs": [],
   "source": [
    "ohe = OneHotEncoder(sparse=False)"
   ]
  },
  {
   "cell_type": "code",
   "execution_count": 16,
   "id": "fbe1f778-c76d-40da-bed9-db6bfe88f759",
   "metadata": {},
   "outputs": [],
   "source": [
    "num_features = [\"tenure\", \"MonthlyCharges\", \"TotalCharges\"]\n",
    "\n",
    "cat_features = [\n",
    "    \"gender\",\n",
    "    \"SeniorCitizen\",\n",
    "    \"Partner\",\n",
    "    \"Dependents\",\n",
    "    \"PhoneService\",\n",
    "    \"MultipleLines\",\n",
    "    \"InternetService\",\n",
    "    \"OnlineSecurity\",\n",
    "    \"OnlineBackup\",\n",
    "    \"DeviceProtection\",\n",
    "    \"TechSupport\",\n",
    "    \"StreamingTV\",\n",
    "    \"StreamingMovies\",\n",
    "    \"Contract\",\n",
    "    \"PaperlessBilling\",\n",
    "    \"PaymentMethod\",\n",
    "]"
   ]
  },
  {
   "cell_type": "code",
   "execution_count": 17,
   "id": "7b96754e",
   "metadata": {},
   "outputs": [],
   "source": [
    "def prepare_dataset(df):\n",
    "    df.TotalCharges = pd.to_numeric(df.TotalCharges, errors=\"coerce\")\n",
    "    df = df.iloc[:, 1:]\n",
    "    df = df.dropna()\n",
    "    df = df.reset_index(drop=True)\n",
    "\n",
    "    df[\"Churn\"] = df[\"Churn\"].replace(to_replace=\"Yes\", value=1)\n",
    "    df[\"Churn\"] = df[\"Churn\"].replace(to_replace=\"No\", value=0)\n",
    "\n",
    "    df_dummies = ohe.fit_transform(df[cat_features])\n",
    "    X = pd.DataFrame(df_dummies, columns=ohe.get_feature_names_out())\n",
    "    X = pd.concat([X, df[num_features]], axis=1)\n",
    "    y = df[\"Churn\"].values\n",
    "\n",
    "    features = X.columns.values\n",
    "    scaler = MinMaxScaler(feature_range=(0, 1))\n",
    "\n",
    "    X = pd.DataFrame(scaler.fit_transform(X))\n",
    "    X.columns = features\n",
    "\n",
    "    with open(\"app/models/min_max_scaler.bin\", \"wb\") as f_out:\n",
    "        pickle.dump(scaler, f_out)\n",
    "\n",
    "    with open(\"app/models/ohe.bin\", \"wb\") as f_out:\n",
    "        pickle.dump(ohe, f_out)\n",
    "\n",
    "    return X, y"
   ]
  },
  {
   "cell_type": "code",
   "execution_count": 18,
   "id": "d71b56fd",
   "metadata": {},
   "outputs": [],
   "source": [
    "X, y = prepare_dataset(train)"
   ]
  },
  {
   "cell_type": "code",
   "execution_count": 19,
   "id": "a3773d93",
   "metadata": {},
   "outputs": [
    {
     "data": {
      "text/plain": [
       "Counter({1: 4115, 0: 4115})"
      ]
     },
     "execution_count": 19,
     "metadata": {},
     "output_type": "execute_result"
    }
   ],
   "source": [
    "over = SMOTE(sampling_strategy=1)\n",
    "\n",
    "X, y = over.fit_resample(X, y)\n",
    "Counter(y)"
   ]
  },
  {
   "cell_type": "code",
   "execution_count": 20,
   "id": "fe254c2f",
   "metadata": {},
   "outputs": [],
   "source": [
    "X_train, X_test, y_train, y_test = train_test_split(\n",
    "    X, y, test_size=0.3, random_state=101, shuffle=True\n",
    ")"
   ]
  },
  {
   "cell_type": "code",
   "execution_count": null,
   "id": "cd568bf9-1fed-4561-950d-bfe2654aed2f",
   "metadata": {},
   "outputs": [],
   "source": []
  },
  {
   "cell_type": "markdown",
   "id": "19ccc99b",
   "metadata": {},
   "source": [
    "### Training sklearn models"
   ]
  },
  {
   "cell_type": "code",
   "execution_count": 21,
   "id": "a26785d8",
   "metadata": {},
   "outputs": [],
   "source": [
    "TRACKING_SERVER_HOST = \"Your host address\"\n",
    "\n",
    "mlflow.set_tracking_uri(f\"http://{TRACKING_SERVER_HOST}:5000\")\n",
    "mlflow.set_experiment(\"telco-customers-churn\")\n",
    "\n",
    "mlflow.sklearn.autolog()"
   ]
  },
  {
   "cell_type": "code",
   "execution_count": 23,
   "id": "314b90cb",
   "metadata": {},
   "outputs": [],
   "source": [
    "def train_with_mlflow(model, model_name):\n",
    "    with mlflow.start_run():\n",
    "        model.fit(X_train, y_train)\n",
    "        y_pred = model.predict(X_test)\n",
    "        recall = metrics.recall_score(y_test, y_pred)\n",
    "        f1 = metrics.f1_score(y_test, y_pred)\n",
    "        accuracy = metrics.accuracy_score(y_test, y_pred)\n",
    "        roc = metrics.roc_auc_score(y_test, y_pred)\n",
    "\n",
    "        mlflow.log_metrics(\n",
    "            {\n",
    "                \"test_recall_score\": recall,\n",
    "                \"test_f1_score\": f1,\n",
    "                \"test_accuracy_score\": accuracy,\n",
    "                \"test_roc_auc_score\": roc,\n",
    "            }\n",
    "        )\n",
    "\n",
    "        mlflow.log_param(\"model\", model_name)"
   ]
  },
  {
   "cell_type": "code",
   "execution_count": 24,
   "id": "4ad41ed2",
   "metadata": {},
   "outputs": [],
   "source": [
    "lr = LogisticRegression()\n",
    "train_with_mlflow(lr, \"logistic regression\")"
   ]
  },
  {
   "cell_type": "code",
   "execution_count": 25,
   "id": "f153c18e",
   "metadata": {},
   "outputs": [],
   "source": [
    "svc = SVC(kernel=\"linear\")\n",
    "train_with_mlflow(svc, \"SVC\")"
   ]
  },
  {
   "cell_type": "code",
   "execution_count": 26,
   "id": "2e93c223",
   "metadata": {},
   "outputs": [],
   "source": [
    "ada = AdaBoostClassifier()\n",
    "train_with_mlflow(ada, \"AdaBoostClassifier\")"
   ]
  },
  {
   "cell_type": "code",
   "execution_count": null,
   "id": "97583123-d914-4598-9794-0247d7710245",
   "metadata": {},
   "outputs": [],
   "source": []
  },
  {
   "cell_type": "markdown",
   "id": "0f40dc87-6467-4d1d-a2a6-903eb22d3e40",
   "metadata": {},
   "source": [
    "### Training xgboost"
   ]
  },
  {
   "cell_type": "code",
   "execution_count": 27,
   "id": "bf26600f",
   "metadata": {
    "tags": []
   },
   "outputs": [
    {
     "name": "stdout",
     "output_type": "stream",
     "text": [
      "100%|███████████████████████████████████████████████████████████████████████████████████████████████████████████████████████████████████████████████████████████| 50/50 [04:04<00:00,  4.89s/trial, best loss: 0.0]\n"
     ]
    }
   ],
   "source": [
    "space = {\n",
    "    \"n_estimators\": hp.choice(\"n_estimators\", np.arange(50, 200, dtype=int)),\n",
    "    \"max_depth\": hp.choice(\"max_depth\", np.arange(1, 20, dtype=int)),\n",
    "    \"min_samples_split\": hp.uniform(\"min_samples_split\", 0.1, 1.0),\n",
    "    \"min_samples_leaf\": hp.uniform(\"min_samples_leaf\", 0.1, 0.5),\n",
    "}\n",
    "\n",
    "\n",
    "def objective(params):\n",
    "    with mlflow.start_run():\n",
    "        clf = RandomForestClassifier(**params, random_state=42)\n",
    "        clf.fit(X_train, y_train)\n",
    "        y_pred = clf.predict(X_test)\n",
    "        recall = metrics.recall_score(y_test, y_pred)\n",
    "        f1 = metrics.f1_score(y_test, y_pred)\n",
    "        accuracy = metrics.accuracy_score(y_test, y_pred)\n",
    "        roc = metrics.roc_auc_score(y_test, y_pred)\n",
    "\n",
    "        mlflow.log_metrics(\n",
    "            {\n",
    "                \"test_recall_score\": recall,\n",
    "                \"test_f1_score\": f1,\n",
    "                \"test_accuracy_score\": accuracy,\n",
    "                \"test_roc_auc_score\": roc,\n",
    "            }\n",
    "        )\n",
    "        mlflow.log_param(\"model\", \"random_forest\")\n",
    "        return recall\n",
    "\n",
    "\n",
    "best = fmin(\n",
    "    fn=objective,\n",
    "    space=space,\n",
    "    algo=tpe.suggest,\n",
    "    max_evals=50,\n",
    "    verbose=1,\n",
    "    trials=Trials(),\n",
    ")"
   ]
  },
  {
   "cell_type": "code",
   "execution_count": 28,
   "id": "5ace87d7",
   "metadata": {},
   "outputs": [],
   "source": [
    "mlflow.xgboost.autolog()"
   ]
  },
  {
   "cell_type": "code",
   "execution_count": 29,
   "id": "d4dc173f",
   "metadata": {},
   "outputs": [],
   "source": [
    "space = {\n",
    "    \"n_estimators\": hp.choice(\"n_estimators\", np.arange(50, 200, dtype=int)),\n",
    "    \"max_depth\": hp.choice(\"max_depth\", np.arange(1, 20, dtype=int)),\n",
    "    \"learning_rate\": hp.uniform(\"learning_rate\", 0.001, 0.3),\n",
    "    \"min_child_weight\": hp.uniform(\"min_child_weight\", 1, 10),\n",
    "    \"subsample\": hp.uniform(\"subsample\", 0.5, 1),\n",
    "    \"gamma\": hp.uniform(\"gamma\", 0, 1),\n",
    "    \"colsample_bytree\": hp.uniform(\"colsample_bytree\", 0.5, 1),\n",
    "}\n",
    "\n",
    "\n",
    "def objective(params):\n",
    "    with mlflow.start_run():\n",
    "        clf = xgb.XGBClassifier(**params, random_state=42)\n",
    "        clf.fit(X_train, y_train)\n",
    "        y_pred = clf.predict(X_test)\n",
    "        recall = metrics.recall_score(y_test, y_pred)\n",
    "        f1 = metrics.f1_score(y_test, y_pred)\n",
    "        accuracy = metrics.accuracy_score(y_test, y_pred)\n",
    "        roc = metrics.roc_auc_score(y_test, y_pred)\n",
    "\n",
    "        mlflow.log_metrics(\n",
    "            {\n",
    "                \"test_recall_score\": recall,\n",
    "                \"test_f1_score\": f1,\n",
    "                \"test_accuracy_score\": accuracy,\n",
    "                \"test_roc_auc_score\": roc,\n",
    "            }\n",
    "        )\n",
    "\n",
    "        mlflow.log_param(\"model\", \"xgboost\")\n",
    "        return recall"
   ]
  },
  {
   "cell_type": "code",
   "execution_count": null,
   "id": "48068c8d-316c-45c3-8c4b-5fc3c7c136f5",
   "metadata": {},
   "outputs": [],
   "source": [
    "best = fmin(\n",
    "    fn=objective,\n",
    "    space=space,\n",
    "    algo=tpe.suggest,\n",
    "    max_evals=500,\n",
    "    verbose=1,\n",
    "    trials=Trials(),\n",
    ")"
   ]
  },
  {
   "cell_type": "markdown",
   "id": "833dd3f4-c3e3-4080-bc98-7f2e19741344",
   "metadata": {},
   "source": [
    "### Training LightGBM"
   ]
  },
  {
   "cell_type": "code",
   "execution_count": 31,
   "id": "2ba5a67e-1fd9-4a45-8abe-41ab26dc76ce",
   "metadata": {},
   "outputs": [],
   "source": [
    "mlflow.lightgbm.autolog()"
   ]
  },
  {
   "cell_type": "code",
   "execution_count": null,
   "id": "8dd2e35c-f0ed-4019-af46-6c8a205e0d66",
   "metadata": {},
   "outputs": [],
   "source": [
    "space = {\n",
    "    \"n_estimators\": hp.choice(\"n_estimators\", np.arange(50, 200, dtype=int)),\n",
    "    \"max_depth\": hp.choice(\"max_depth\", np.arange(1, 20, dtype=int)),\n",
    "    \"learning_rate\": hp.uniform(\"learning_rate\", 0.001, 0.3),\n",
    "    \"min_child_weight\": hp.uniform(\"min_child_weight\", 1, 10),\n",
    "    \"num_leaves\": hp.choice(\"num_leaves\", np.arange(2, 100, dtype=int)),\n",
    "    \"subsample\": hp.uniform(\"subsample\", 0.5, 1),\n",
    "    \"colsample_bytree\": hp.uniform(\"colsample_bytree\", 0.5, 1),\n",
    "}\n",
    "\n",
    "\n",
    "def objective(params):\n",
    "    with mlflow.start_run():\n",
    "        clf = lgb.LGBMClassifier(**params, random_state=42)\n",
    "        clf.fit(X_train, y_train)\n",
    "        y_pred = clf.predict(X_test)\n",
    "        recall = metrics.recall_score(y_test, y_pred)\n",
    "        f1 = metrics.f1_score(y_test, y_pred)\n",
    "        accuracy = metrics.accuracy_score(y_test, y_pred)\n",
    "        roc = metrics.roc_auc_score(y_test, y_pred)\n",
    "\n",
    "        mlflow.log_metrics(\n",
    "            {\n",
    "                \"test_recall_score\": recall,\n",
    "                \"test_f1_score\": f1,\n",
    "                \"test_accuracy_score\": accuracy,\n",
    "                \"test_roc_auc_score\": roc,\n",
    "            }\n",
    "        )\n",
    "\n",
    "        mlflow.log_param(\"model\", \"lightgbm\")\n",
    "        return recall\n",
    "\n",
    "\n",
    "# Assuming you have X_train, X_test, y_train, and y_test datasets available\n",
    "\n",
    "# Trials object to track the results\n",
    "trials = Trials()\n",
    "\n",
    "# Run the hyperparameter search using TPE (Tree-structured Parzen Estimator) algorithm\n",
    "best = fmin(\n",
    "    fn=objective,\n",
    "    space=space,\n",
    "    algo=tpe.suggest,\n",
    "    max_evals=500,  # Number of iterations for hyperparameter search\n",
    "    trials=trials,\n",
    "    verbose=1,\n",
    ")"
   ]
  },
  {
   "cell_type": "code",
   "execution_count": null,
   "id": "d9355838-27ff-4576-b4de-2e563ba260f4",
   "metadata": {},
   "outputs": [],
   "source": []
  }
 ],
 "metadata": {
  "kernelspec": {
   "display_name": "Python 3 (ipykernel)",
   "language": "python",
   "name": "python3"
  },
  "language_info": {
   "codemirror_mode": {
    "name": "ipython",
    "version": 3
   },
   "file_extension": ".py",
   "mimetype": "text/x-python",
   "name": "python",
   "nbconvert_exporter": "python",
   "pygments_lexer": "ipython3",
   "version": "3.11.2"
  }
 },
 "nbformat": 4,
 "nbformat_minor": 5
}
