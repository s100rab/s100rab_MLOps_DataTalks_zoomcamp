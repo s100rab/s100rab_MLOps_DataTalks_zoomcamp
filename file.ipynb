{
 "cells": [
  {
   "cell_type": "code",
   "execution_count": null,
   "metadata": {},
   "outputs": [],
   "source": []
  },
  {
   "cell_type": "markdown",
   "metadata": {},
   "source": [
    "🚀 **Proof of Concept: Real-Time Data Monitoring with Evidently AI and MLOps** 🚀\n",
    "\n",
    "I recently completed a proof of concept project that integrates several powerful tools to monitor and evaluate machine learning systems in real-time. This project leverages the capabilities of Evidently AI, Grafana, and PostgreSQL, packaged neatly in Docker containers.\n",
    "\n",
    "🔗 **GitHub Repository:** [s100rab_MLOps_DataTalks_zoomcamp](https://github.com/s100rab/s100rab_MLOps_DataTalks_zoomcamp/tree/main/05-monitoring)\n",
    "\n",
    "### **Project Scope and Technology Stack:**\n",
    "- **Evidently AI:** For generating reports, test suites, and dashboards that evaluate and monitor data and ML models.\n",
    "- **Grafana:** For visualizing metrics and creating interactive dashboards.\n",
    "- **PostgreSQL:** To store metrics data.\n",
    "- **Docker:** To containerize and orchestrate the services for seamless deployment and management.\n",
    "\n",
    "### **Challenges Faced:**\n",
    "1. **Interpreting Requirements:** Initially struggled with understanding the requirements for expanded monitoring and quantile metrics.\n",
    "2. **Integration Complexity:** Ensuring seamless integration of Evidently AI reports with Grafana dashboards and PostgreSQL.\n",
    "3. **Dashboard Customization:** Customizing and saving dashboard configurations without overwriting existing panels.\n",
    "4. **Data Management:** Efficiently managing and querying large datasets to monitor metrics daily.\n",
    "\n",
    "### **Solutions and Approach:**\n",
    "- **Expanded Monitoring:** Using Evidently AI’s `ColumnQuantileMetric` to calculate daily quantile values for fare amounts.\n",
    "- **Separate Configurations:** Avoiding overwriting by creating separate database tables and Grafana panels for homework.\n",
    "- **Efficient Queries:** Streamlining SQL queries for Grafana dashboards by copying and editing existing queries.\n",
    "- **Automated Workflows:** Setting up automated scripts to run daily data monitoring and update dashboards.\n",
    "\n",
    "### **Applications in Real-Time Scenarios:**\n",
    "This project showcases the potential for real-time monitoring and evaluation in various ML-powered systems:\n",
    "- **Ride-Sharing Platforms:** Monitoring trip fare distributions and identifying anomalies in real-time.\n",
    "- **Financial Systems:** Real-time monitoring of transaction amounts to detect fraud or unusual activity.\n",
    "- **Healthcare:** Monitoring patient data metrics to ensure consistent and accurate data collection and processing.\n",
    "\n",
    "### **Learnings and Next Steps:**\n",
    "Understanding Evidently AI has been a game-changer:\n",
    "1. **Reports:** Inline in Jupyter notebooks and exportable to JSON, HTML, etc.\n",
    "2. **Test Suites:** Pre-defined presets for common metrics.\n",
    "3. **Dashboards:** Customizable panels and integration with external solutions like Prometheus and Grafana.\n",
    "\n",
    "Moving forward, there's still so much to explore in the realm of MLOps and Evidently AI. On to the next module!\n",
    "\n",
    "💡 **Key Takeaways:**\n",
    "- Evidently AI simplifies the evaluation and monitoring of data and ML models.\n",
    "- Effective integration of monitoring tools can provide powerful real-time insights.\n",
    "- Properly organizing and managing configurations and data is crucial for scalable solutions.\n",
    "\n",
    "Check out the detailed implementation and source code on my GitHub: [s100rab_MLOps_DataTalks_zoomcamp](https://github.com/s100rab/s100rab_MLOps_DataTalks_zoomcamp/tree/main/05-monitoring)\n",
    "\n",
    "#MLOps #DataScience #MachineLearning #EvidentlyAI #Grafana #PostgreSQL #Docker #RealTimeMonitoring #DataTalksClub\n"
   ]
  }
 ],
 "metadata": {
  "language_info": {
   "name": "python"
  }
 },
 "nbformat": 4,
 "nbformat_minor": 2
}
