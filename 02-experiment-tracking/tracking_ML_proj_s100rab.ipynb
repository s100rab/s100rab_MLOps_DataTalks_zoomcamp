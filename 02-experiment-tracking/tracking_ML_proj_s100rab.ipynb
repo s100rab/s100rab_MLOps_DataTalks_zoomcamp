{
 "cells": [
  {
   "cell_type": "code",
   "execution_count": 1,
   "metadata": {},
   "outputs": [],
   "source": [
    "import os\n",
    "\n",
    "# Create directories for the backend store and artifact store if they don't exist\n",
    "os.makedirs(\"mlflow_db\", exist_ok=True)\n",
    "os.makedirs(\"mlflow_artifacts\", exist_ok=True)\n"
   ]
  },
  {
   "cell_type": "code",
   "execution_count": 2,
   "metadata": {},
   "outputs": [
    {
     "data": {
      "text/plain": [
       "<Popen: returncode: None args: ['mlflow', 'server', '--backend-store-uri', '...>"
      ]
     },
     "execution_count": 2,
     "metadata": {},
     "output_type": "execute_result"
    }
   ],
   "source": [
    "import subprocess\n",
    "\n",
    "# Define the backend store URI (SQLite database)\n",
    "backend_store_uri = \"sqlite:///mlflow.db\"\n",
    "\n",
    "# Define the default artifact root (local filesystem path)\n",
    "default_artifact_root = \"./artifacts\"\n",
    "\n",
    "# Launch the MLflow tracking server\n",
    "subprocess.Popen([\n",
    "    \"mlflow\", \"server\",\n",
    "    \"--backend-store-uri\", backend_store_uri,\n",
    "    \"--default-artifact-root\", default_artifact_root,\n",
    "    \"--host\", \"127.0.0.1\",\n",
    "    \"--port\", \"5000\"\n",
    "])\n"
   ]
  },
  {
   "cell_type": "code",
   "execution_count": 3,
   "metadata": {},
   "outputs": [
    {
     "data": {
      "text/html": [
       "\n",
       "        <iframe\n",
       "            width=\"1000\"\n",
       "            height=\"600\"\n",
       "            src=\"http://127.0.0.1:5000\"\n",
       "            frameborder=\"0\"\n",
       "            allowfullscreen\n",
       "            \n",
       "        ></iframe>\n",
       "        "
      ],
      "text/plain": [
       "<IPython.lib.display.IFrame at 0x23f8f67f340>"
      ]
     },
     "execution_count": 3,
     "metadata": {},
     "output_type": "execute_result"
    }
   ],
   "source": [
    "from IPython.display import IFrame\n",
    "\n",
    "# Display the MLflow UI in an iframe\n",
    "IFrame(src=\"http://127.0.0.1:5000\", width=1000, height=600)\n"
   ]
  },
  {
   "cell_type": "code",
   "execution_count": 4,
   "metadata": {},
   "outputs": [
    {
     "ename": "NameError",
     "evalue": "name 'mlflow_server_cmd' is not defined",
     "output_type": "error",
     "traceback": [
      "\u001b[1;31m---------------------------------------------------------------------------\u001b[0m",
      "\u001b[1;31mNameError\u001b[0m                                 Traceback (most recent call last)",
      "Cell \u001b[1;32mIn [4], line 2\u001b[0m\n\u001b[0;32m      1\u001b[0m \u001b[38;5;66;03m# Start the MLflow tracking server\u001b[39;00m\n\u001b[1;32m----> 2\u001b[0m server_process \u001b[38;5;241m=\u001b[39m subprocess\u001b[38;5;241m.\u001b[39mPopen(mlflow_server_cmd)\n\u001b[0;32m      4\u001b[0m \u001b[38;5;28mprint\u001b[39m(\u001b[38;5;124m\"\u001b[39m\u001b[38;5;124mMLflow tracking server started. Process ID:\u001b[39m\u001b[38;5;124m\"\u001b[39m, server_process\u001b[38;5;241m.\u001b[39mpid)\n",
      "\u001b[1;31mNameError\u001b[0m: name 'mlflow_server_cmd' is not defined"
     ]
    }
   ],
   "source": [
    "\n",
    "# Start the MLflow tracking server\n",
    "server_process = subprocess.Popen(mlflow_server_cmd)\n",
    "\n",
    "print(\"MLflow tracking server started. Process ID:\", server_process.pid)\n"
   ]
  }
 ],
 "metadata": {
  "kernelspec": {
   "display_name": "DS_AI_ML",
   "language": "python",
   "name": "python3"
  },
  "language_info": {
   "codemirror_mode": {
    "name": "ipython",
    "version": 3
   },
   "file_extension": ".py",
   "mimetype": "text/x-python",
   "name": "python",
   "nbconvert_exporter": "python",
   "pygments_lexer": "ipython3",
   "version": "3.10.9"
  }
 },
 "nbformat": 4,
 "nbformat_minor": 2
}
